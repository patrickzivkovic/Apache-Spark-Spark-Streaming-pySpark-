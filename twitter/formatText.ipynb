{
 "cells": [
  {
   "cell_type": "code",
   "execution_count": 1,
   "metadata": {},
   "outputs": [],
   "source": [
    "str1 = \"Protesters #FightBack as they try to save a fellow protester from police detention during a prot…RT @rvegyeosm: Don’t forget him. His name is Abdirahman Salad. He was sh0t six times by police officers in Columbus, Ohio. He was only 15 y…RT @SimonLebeau7: I don’t have words. Thankfully, I found this. #londonprotests #londonriots #BlackLivesMatter https://t.co/Kx8oMXoxKbRT @YoungMAMusic: If you ain’t with us you against us!! #BLACKLIVESMATTER https://t.co/2kbf7vIZRSRT @piersmorgan: Incredible photo: a #BlackLivesMatter protestor carries an injured  far-right counter-protestor to safety in London. Amid…RT @elijahdaniel: RIP Derrick Scott. They’re only releasing these videos now hoping they go under the radar, do not let them. #BlackLivesMa…RT @mxmsworld: Apart from this being shameless insurance fraud. It’s quite sad that there are Indians coming to congregate and sprinkle mor…RT @rvegyeosm: Don’t forget him. His name is Abdirahman Salad. He was sh0t six times by police officers in Columbus, Ohio. He was only 15 y…RT @haniImhome: Djdjdjdjdjdjjdjd please, Parisians are fluent in protests. We don’t even need to see to believe itRT @jaboukie: idk how this could happen and you don’t quit immediatelyRT @dbcxptures: Everyone should report this bot’s account, this is America and not Ealing Road.RT @jaboukie: idk how this could happen and you don’t quit immediatelyRT @thepopcornreel: Protesters in Atlanta shutdown an interstate after the murder of Rayshard Brooks by police. #RayshardBrooks #AtlantaSho…RT @DavidLammy: Want to support #blacklivesmatter?\"\n",
    "str2 = \"#Bl…RT @camt3nks: no justice, no peace. no freedom until we all are equal. I recognize my privilege as a white man and I stand with #BlackLives…Ten years for pulling down a statue?\""
   ]
  },
  {
   "cell_type": "code",
   "execution_count": 2,
   "metadata": {},
   "outputs": [],
   "source": [
    "def formatText(text):\n",
    "    formatted_text = ' '.join(word for word in text.split() if (word[0]!='#' and \n",
    "                                           word[0]!=\"@\" and \n",
    "                                           not word.startswith(\"http\") and \n",
    "                                           not word.startswith(\"RT\")))\n",
    "    return formatted_text"
   ]
  },
  {
   "cell_type": "code",
   "execution_count": 3,
   "metadata": {},
   "outputs": [
    {
     "data": {
      "text/plain": [
       "'#Bl…RT @camt3nks: no justice, no peace. no freedom until we all are equal. I recognize my privilege as a white man and I stand with #BlackLives…Ten years for pulling down a statue?'"
      ]
     },
     "execution_count": 3,
     "metadata": {},
     "output_type": "execute_result"
    }
   ],
   "source": [
    "str2"
   ]
  },
  {
   "cell_type": "code",
   "execution_count": 4,
   "metadata": {},
   "outputs": [
    {
     "data": {
      "text/plain": [
       "'no justice, no peace. no freedom until we all are equal. I recognize my privilege as a white man and I stand with years for pulling down a statue?'"
      ]
     },
     "execution_count": 4,
     "metadata": {},
     "output_type": "execute_result"
    }
   ],
   "source": [
    "\n",
    "formatText(str2)"
   ]
  },
  {
   "cell_type": "code",
   "execution_count": null,
   "metadata": {},
   "outputs": [],
   "source": []
  }
 ],
 "metadata": {
  "kernelspec": {
   "display_name": "Python 3",
   "language": "python",
   "name": "python3"
  },
  "language_info": {
   "codemirror_mode": {
    "name": "ipython",
    "version": 3
   },
   "file_extension": ".py",
   "mimetype": "text/x-python",
   "name": "python",
   "nbconvert_exporter": "python",
   "pygments_lexer": "ipython3",
   "version": "3.7.1"
  }
 },
 "nbformat": 4,
 "nbformat_minor": 2
}
