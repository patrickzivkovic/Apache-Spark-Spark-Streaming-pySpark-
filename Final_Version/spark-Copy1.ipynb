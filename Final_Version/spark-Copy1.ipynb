{
 "cells": [
  {
   "cell_type": "code",
   "execution_count": 1,
   "metadata": {},
   "outputs": [],
   "source": [
    "# import necessary libraries\n",
    "import time\n",
    "from IPython import display\n",
    "import matplotlib.pyplot as plt\n",
    "import seaborn as sns\n",
    "import pandas\n",
    "from textblob import TextBlob\n",
    "try:\n",
    "    import subprocess\n",
    "except:\n",
    "    %pip install subprocess\n",
    "    import subprocess\n",
    "import numpy as np\n",
    "import findspark\n",
    "from pyspark import SparkContext\n",
    "from pyspark.streaming import StreamingContext\n",
    "from pyspark.sql import SQLContext\n",
    "from pyspark.sql.functions import desc\n",
    "from collections import namedtuple"
   ]
  },
  {
   "cell_type": "code",
   "execution_count": null,
   "metadata": {},
   "outputs": [],
   "source": [
    "#Importing relevant packages\n",
    "import findspark\n",
    "from pyspark import SparkContext\n",
    "from pyspark.streaming import StreamingContext\n",
    "from pyspark.sql import SQLContext\n",
    "\n",
    "#initialising spark directory\n",
    "findspark.init('Spark directory on your system') "
   ]
  },
  {
   "cell_type": "code",
   "execution_count": 2,
   "metadata": {},
   "outputs": [],
   "source": [
    "findspark.init('C:\\opt\\spark') #initialise spark directory\n",
    "sc = SparkContext() #make new spark session\n",
    "ssc = StreamingContext(sc, 10) #we initiate the StreamingContext with 10 second batch interval\n",
    "sqlContext = SQLContext(sc) #next we initiate our sqlcontext\n",
    "socket_stream = ssc.socketTextStream(\"127.0.0.1\", 5555) #initiate streaming text from a TCP (socket) source:\n",
    "lines = socket_stream.window(60) #lines of tweets with socket_stream window of size 60, or 60 #seconds windows of time"
   ]
  },
  {
   "cell_type": "code",
   "execution_count": null,
   "metadata": {},
   "outputs": [],
   "source": [
    "#create new spark session\n",
    "sc = SparkContext() \n",
    "#initiating the StreamingContext with 10 second batch interval\n",
    "ssc = StreamingContext(sc, 10)\n",
    "#next we initiate our sqlcontext\n",
    "sqlContext = SQLContext(sc) "
   ]
  },
  {
   "cell_type": "code",
   "execution_count": null,
   "metadata": {},
   "outputs": [],
   "source": [
    "#initiate streaming text from a TCP (socket) source:\n",
    "socket_stream = ssc.socketTextStream(\"127.0.0.1\", 5555) \n",
    "#lines of tweets with socket stream window of size 60 (60 seconds of time)\n",
    "lines = socket_stream.window(60) "
   ]
  },
  {
   "cell_type": "code",
   "execution_count": 3,
   "metadata": {},
   "outputs": [],
   "source": [
    "#create tuple for hashtag and counting and a named tuple Tweet\n",
    "hashtagfield = (\"hashtag\", \"count\")\n",
    "Tweet = namedtuple('Tweet', hashtagfield)\n",
    "\n",
    "#create tuple for sentiment analysis with text and count and a named tuple Sentiment\n",
    "sentifields = (\"text\", \"count\")\n",
    "Sentiment = namedtuple('Sentiment', sentifields)"
   ]
  },
  {
   "cell_type": "code",
   "execution_count": null,
   "metadata": {},
   "outputs": [],
   "source": [
    "#create tuple for hashtag and counting and a named tuple Tweet\n",
    "hashtagfield = (\"hashtag\", \"count\")\n",
    "Tweet = namedtuple('Tweet', hashtagfield)\n",
    "\n",
    "### Transformation on the incoming streaming data ###\n",
    "#Splits to a list\n",
    "text = lines.flatMap(lambda text: text.split(\" \")) \n",
    "#Filter hashtag calls \n",
    "hashtag = text.filter(lambda word: word.lower().startswith(\"#\")) \n",
    "#Lower cases the word\n",
    "lowerWord = hashtag.map(lambda word: (word.lower(), 1 )) \n",
    "#sum up the count of equal hashtags\n",
    "getCount = lowerWord.reduceByKey(lambda a, b: a + b) \n",
    "#stores the tuple in named tuple Tweet\n",
    "store = getCount.map(lambda rec: Tweet(rec[0], rec[1])) \n",
    "#Sorts RDDs by hashtag count, registers only top 5 hashtags and saves them to a temporary sql table\n",
    "store.foreachRDD(lambda rdd: rdd.toDF().sort(desc(\"count\")).limit(5).registerTempTable(\"tweets\")) "
   ]
  },
  {
   "cell_type": "code",
   "execution_count": 4,
   "metadata": {},
   "outputs": [],
   "source": [
    "sentences = lines.flatMap( lambda text: text.split( \"\\n\" ) ) #Splits to a list containing of the single tweets \n",
    "table = sentences.map( lambda word: ( word, 1) )  #saves them in a tupel \n",
    "sent = table.map( lambda rec: Sentiment( rec[0], rec[1] ) ) #stores the tupel in named tupel Sentiment\n",
    "sent.foreachRDD( lambda rdd: rdd.toDF().sort( desc(\"count\") ).limit(10000).registerTempTable(\"sentiment\")) #save RDDs to a temporary sql table \n",
    "\n",
    "text = lines.flatMap(lambda text: text.split(\" \")) #Splits to a list\n",
    "hashtag = text.filter(lambda word: word.lower().startswith(\"#\"))  #Filter hashtag calls  \n",
    "lowerWord = hashtag.map(lambda word: (word.lower(), 1 )) #Lower cases the word\n",
    "getCount = lowerWord.reduceByKey(lambda a, b: a + b) #sum up the count of equal hashtags\n",
    "store = getCount.map(lambda rec: Tweet(rec[0], rec[1])) #stores the tupel in named tupel Tweet\n",
    "store.foreachRDD(lambda rdd: rdd.toDF().sort(desc(\"count\")).limit(5).registerTempTable(\"tweets\")) #Sorts RDDs by hashtag count, registers only top 5 hashtags and saves them to a temporary sql table"
   ]
  },
  {
   "cell_type": "code",
   "execution_count": 5,
   "metadata": {},
   "outputs": [
    {
     "name": "stdout",
     "output_type": "stream",
     "text": [
      "Enter searchword: racism\n",
      "Search for: racism\n"
     ]
    }
   ],
   "source": [
    "#get user input for search\n",
    "while True:\n",
    "    search = input(\"Enter searchword: \")\n",
    "    if(search != \"\"):\n",
    "        print(\"Search for: \" + search)\n",
    "        break\n",
    "    print(\"You have to use a searchword!\")\n",
    "\n",
    "search = search.split(\",\") #splits user input by \",\"\n",
    "\n",
    "f = open(\"var.py\", \"w\") #opens another file to store search variable \n",
    "f.write(\"search = %s\" % search) #overwrite the file\n",
    "f.close()\n",
    "\n",
    "#opens job.sh in shell command, which then calls the TweetsReceiver\n",
    "file = subprocess.Popen(\"job.sh\", shell = True)  \n",
    "\n",
    "ssc.start() #starts streaming"
   ]
  },
  {
   "cell_type": "code",
   "execution_count": 6,
   "metadata": {},
   "outputs": [
    {
     "name": "stdout",
     "output_type": "stream",
     "text": [
      "Wait 60 seconds for data to stream properly...\n",
      "...successfull\n"
     ]
    }
   ],
   "source": [
    "#has to wait 60 seconds to get enough tweets for RDDs because socket_stream.window(60) is set to 60 seconds\n",
    "print(\"Wait 60 seconds for data to stream properly...\")\n",
    "time.sleep(60)\n",
    "print(\"...successfull\")"
   ]
  },
  {
   "cell_type": "code",
   "execution_count": null,
   "metadata": {},
   "outputs": [],
   "source": [
    "### Top 5 hashtags ###\n",
    "\n",
    "#queries the temporary sql table and stores the result in a variable\n",
    "top_5_tags = sqlContext.sql('Select hashtag, count from tweets') \n",
    "#converts SQL variable to a pandas dataFrame\n",
    "top_5_df = top_5_tags.toPandas() \n",
    "\n",
    "#Visualization\n",
    "plt.figure( figsize = (10, 8))\n",
    "sns.barplot( x=\"count\", y=\"hashtag\", data=top_5_df)\n",
    "plt.show()"
   ]
  },
  {
   "cell_type": "code",
   "execution_count": null,
   "metadata": {},
   "outputs": [],
   "source": [
    "### Sentiment Analysis ###\n",
    "\n",
    "import matplotlib.pyplot as plt\n",
    "import seaborn as sns\n",
    "from textblob import TextBlob #package for simple sentiment analysis\n",
    "\n",
    "#gets temporary sql table and stores it in file\n",
    "senti = sqlContext.sql('Select text from sentiment') \n",
    "#convert file to pandas dataFrame\n",
    "sen = senti.toPandas()"
   ]
  },
  {
   "cell_type": "code",
   "execution_count": null,
   "metadata": {},
   "outputs": [],
   "source": [
    "#array for counting positive and negative tweets \n",
    "countPosNegNeu = np.array([0, 0, 0]) \n",
    "\n",
    "while i < len(sen):\n",
    "    #compute sentiment analysis on clean text and store it in opinion\n",
    "    opinion = TextBlob(formatText(sen[\"text\"][i])) \n",
    "    \n",
    "    #print 5 tweets with sentiment analysis\n",
    "    if(s <= 5):\n",
    "        print(\"For the text: \", formatText(sen[\"text\"][i]))\n",
    "        print(\"The text polarity is: %.2f\" %opinion.sentiment[0])\n",
    "        print(\"The text subjectivity is: %.2f\" %opinion.sentiment[1])\n",
    "        print(\"*****************************************************\")\n",
    "    \n",
    "    #store tweets in positive/negative/neutral polarity list\n",
    "    if(opinion.sentiment[0] > 0):\n",
    "        #add 1 to positive count because sentiment was positive\n",
    "        countPosNegNeu[1] += 1 \n",
    "    elif(opinion.sentiment[0] < 0):\n",
    "        #add 1 to negative count because sentiment was negative\n",
    "        countPosNegNeu[0] += 1 \n",
    "    else:\n",
    "        #add 1 to neutral count because sentiment was neither negative nor positive\n",
    "        countPosNegNeu[2] += 1 \n",
    "    i += 1 #count +1 for while loop\n",
    "    s += 1 #count +1 for text printing"
   ]
  },
  {
   "cell_type": "code",
   "execution_count": null,
   "metadata": {},
   "outputs": [],
   "source": [
    "#print positive/negative/neutral barplot\n",
    "print(\"Positive/Negative Barplot\")\n",
    "plt.figure(figsize = (10, 8))\n",
    "sns.barplot(x=countNames, y=countPosNegNeu)\n",
    "plt.show()\n",
    "\n",
    "#print positive/negative/neutral boxplot\n",
    "print(\"Positive/Negative/Neutral Boxplot\")\n",
    "boxplotdata = pandas.DataFrame(list(zip(negativeList, positiveList)), columns =['negative', 'positive'])\n",
    "plt.figure(figsize = (10, 8))\n",
    "sns.boxplot(data = boxplotdata)\n",
    "plt.show()"
   ]
  },
  {
   "cell_type": "code",
   "execution_count": null,
   "metadata": {},
   "outputs": [],
   "source": [
    "#format text for clear output\n",
    "def formatText(text):\n",
    "    formatted_text = ' '.join(word for word in text.split() if (word[0]!='#' and \n",
    "                                           word[0]!=\"@\" and \n",
    "                                           not word.startswith(\"http\") and \n",
    "                                           not word.startswith(\"RT\")))\n",
    "    return formatted_text"
   ]
  },
  {
   "cell_type": "code",
   "execution_count": null,
   "metadata": {
    "scrolled": false
   },
   "outputs": [],
   "source": [
    "#Get hashtags count from temporary SQL table and plot it\n",
    "def plot():\n",
    "    ploterror = int() #set error variable\n",
    "    #if try is successful it plot top 5 hashtags and calls sentiment() for sentiment analysis\n",
    "    try:\n",
    "        %matplotlib inline\n",
    "        print(\"Gather Data for graph...\")\n",
    "        time.sleep(5)\n",
    "        #top 5 hashtags:\n",
    "        top_5_tags = sqlContext.sql('Select hashtag, count from tweets') #gets temporary sql table and stores it in file\n",
    "        top_5_df = top_5_tags.toPandas() #convert file to pandas dataFrame\n",
    "        print(\"...successful\")\n",
    "        print(\"\")\n",
    "        plt.figure( figsize = (10, 8))\n",
    "        sns.barplot( x=\"count\", y=\"hashtag\", data=top_5_df)\n",
    "        plt.show()\n",
    "        plt.clf()\n",
    "        sentiment()\n",
    "    #if try is not successful set error variable to +1 and try plot() again. If error exceeds 5 then exit()\n",
    "    except:\n",
    "        print(\"Data was not ready for printing....waiting....\")\n",
    "        time.sleep(20)\n",
    "        if(ploterror >= 5):\n",
    "            print(\"Error on Streaming\")\n",
    "            print(\"Exiting...\")\n",
    "            ssc.stop()\n",
    "            exit()\n",
    "        ploterror += 1\n",
    "        plot()\n",
    "        \n",
    "#Does sentiment analysis on the twitter text\n",
    "def sentiment():\n",
    "    sentierror = int() #defines error variable\n",
    "    %matplotlib inline\n",
    "    #if try is successful it does sentiment analysis on the twitter text, prints 5 tweets and plots the polarity count if the overall search topic is neutral/positive/negative\n",
    "    try:\n",
    "        print(\"Gather data for Sentiment Analysis...\")\n",
    "        #sentiment analysis:\n",
    "        senti = sqlContext.sql('Select text from sentiment') #gets temporary sql table and stores it in file\n",
    "        sen = senti.toPandas() #convert file to pandas dataFrame\n",
    "        sen.dropna(inplace=True)\n",
    "        sen.reset_index(drop=True, inplace=True)\n",
    "        print(\"successful\")\n",
    "        #sen['text'].replace(\"\", np.nan, inplace=True)\n",
    "        #sen.dropna(inplace=True)\n",
    "        dfLen = len(sen) #get number of rows\n",
    "        positiveList = [] #empty list for storing positive tweets\n",
    "        negativeList = [] #empty list for storing negative tweets\n",
    "        neutralList = [] #empty list for storing neutral tweets\n",
    "        countPosNegNeu = np.array([0, 0, 0]) #array for counting positive and negative tweets --> 0 is negative, 1 is positive, 2 is neutral\n",
    "        countNames = np.array([\"negative\", \"positive\", \"neutral\"]) #names for plotting\n",
    "        s = 0 #count variable for plotting 5 tweets with sentiment analysis\n",
    "        i = 0 #count variable to get every tweet out of sen dataFrame\n",
    "        print(\"analyse text for sentiment...\")\n",
    "        try:\n",
    "            while i < dfLen:\n",
    "                if((TextBlob(formatText(sen[\"text\"][i])).sentiment[0] == 0.0) and (TextBlob(formatText(sen[\"text\"][i])).sentiment[1] == 0.0)):\n",
    "                   i += 1 #count +1 for while loop\n",
    "                   s += 1 #count +1 for text printing\n",
    "                else:\n",
    "                    opinion = TextBlob(formatText(sen[\"text\"][i])) #compute sentiment analysis on clean text and store it in opinion\n",
    "                    #print 5 tweets with sentiment analysis\n",
    "                    if(s <= 5):\n",
    "                        print(\"For the text: \", formatText(sen[\"text\"][i]))\n",
    "                        print(\"The text polarity is: %.2f\" %opinion.sentiment[0])\n",
    "                        print(\"The text subjectivity is: %.2f\" %opinion.sentiment[1])\n",
    "                        print(\"*****************************************************\")\n",
    "                    #store tweets in positive/negative/neutral polarity list\n",
    "                    if(opinion.sentiment[0] > 0):\n",
    "                        countPosNegNeu[1] += 1 #add 1 to positive count because sentiment was positive\n",
    "                        positiveList.append(opinion.sentiment[0]) #stores tweet in positive list\n",
    "                    elif(opinion.sentiment[0] < 0):\n",
    "                        countPosNegNeu[0] += 1 #add 1 to negative count because seintiment was negative\n",
    "                        negativeList.append(opinion.sentiment[0]) #stores tweet in negative list\n",
    "                    else:\n",
    "                        countPosNegNeu[2] += 1 #add 1 to neutral count because seintiment was not negative or positive\n",
    "                        neutralList.append(opinion.sentiment[0]) #stores tweet in neutral list\n",
    "                    i += 1 #count +1 for while loop\n",
    "                    s += 1 #count +1 for text printing\n",
    "        except:\n",
    "            pass\n",
    "        \n",
    "        print(\"...done!\")\n",
    "        print(\"\")\n",
    "        #print positive/negative/neutral barplot\n",
    "        try:\n",
    "            print(\"Positive/Negative Barplot\")\n",
    "            plt.figure(figsize = (10, 8))\n",
    "            sns.barplot(x=countNames, y=countPosNegNeu)\n",
    "            plt.show()\n",
    "            plt.clf() #cleans plot for new plotting\n",
    "        \n",
    "            #print positive/negative/neutral boxplot\n",
    "            print(\"Positive/Negative/Neutral Boxplot\")\n",
    "            boxplotdata = pandas.DataFrame(list(zip(negativeList, positiveList)), columns =['negative', 'positive'])\n",
    "            plt.figure(figsize = (10, 8))\n",
    "            sns.boxplot(data = boxplotdata)\n",
    "            plt.show()\n",
    "            plt.clf()\n",
    "            time.sleep(10)\n",
    "        except:\n",
    "            pass\n",
    "        \n",
    "        #if user wants to do another analysis on same search word execute plot() again\n",
    "        if(input(\"continue?(y/n): \") == \"y\"):\n",
    "            plot()\n",
    "        else:\n",
    "            print(\"Exiting...\")\n",
    "            ssc.stop()\n",
    "            exit()\n",
    "    #if try is not successful set error variable to +1 and try sentiment() again. If error exceeds 5 then exit()\n",
    "    except:\n",
    "        print(\"Data was not ready for sentiment...waiting...\")\n",
    "        time.sleep(20)\n",
    "        if(sentierror >= 5):\n",
    "            print(\"Error on sentiment, getting not enough data!\")\n",
    "            print(\"Exiting...\")\n",
    "            ssc.stop()\n",
    "            exit()\n",
    "        sentierror += 1\n",
    "        sentiment()"
   ]
  },
  {
   "cell_type": "code",
   "execution_count": null,
   "metadata": {
    "scrolled": false
   },
   "outputs": [
    {
     "name": "stdout",
     "output_type": "stream",
     "text": [
      "Gather Data for graph...\n",
      "...successful\n",
      "\n"
     ]
    },
    {
     "data": {
      "image/png": "[encoded data removed]",
      "text/plain": [
       "<Figure size 720x576 with 1 Axes>"
      ]
     },
     "metadata": {
      "needs_background": "light"
     },
     "output_type": "display_data"
    },
    {
     "name": "stdout",
     "output_type": "stream",
     "text": [
      "Gather data for Sentiment Analysis...\n",
      "successful\n",
      "analyse text for sentiment...\n",
      "For the text:  WTF, brave! If yer speak out about the industrial rape of a whole generation of British children by majority pakistani moslem men yer labelled a racist and face being jailed, these multi millionaire champagne socialists are not brave 😡🇬🇧🔱 NFSE!\n",
      "The text polarity is: 0.04\n",
      "The text subjectivity is: 0.68\n",
      "*****************************************************\n",
      "...done!\n",
      "\n",
      "Positive/Negative Barplot\n"
     ]
    },
    {
     "data": {
      "image/png": "[encoded data removed]",
      "text/plain": [
       "<Figure size 720x576 with 1 Axes>"
      ]
     },
     "metadata": {
      "needs_background": "light"
     },
     "output_type": "display_data"
    },
    {
     "name": "stdout",
     "output_type": "stream",
     "text": [
      "Positive/Negative/Neutral Boxplot\n"
     ]
    },
    {
     "data": {
      "text/plain": [
       "<Figure size 432x288 with 0 Axes>"
      ]
     },
     "metadata": {},
     "output_type": "display_data"
    },
    {
     "data": {
      "image/png": "[encoded data removed]",
      "text/plain": [
       "<Figure size 720x576 with 1 Axes>"
      ]
     },
     "metadata": {
      "needs_background": "light"
     },
     "output_type": "display_data"
    }
   ],
   "source": [
    "plot()"
   ]
  },
  {
   "cell_type": "code",
   "execution_count": null,
   "metadata": {},
   "outputs": [],
   "source": []
  }
 ],
 "metadata": {
  "kernelspec": {
   "display_name": "Python 3",
   "language": "python",
   "name": "python3"
  },
  "language_info": {
   "codemirror_mode": {
    "name": "ipython",
    "version": 3
   },
   "file_extension": ".py",
   "mimetype": "text/x-python",
   "name": "python",
   "nbconvert_exporter": "python",
   "pygments_lexer": "ipython3",
   "version": "3.7.1"
  }
 },
 "nbformat": 4,
 "nbformat_minor": 2
}
