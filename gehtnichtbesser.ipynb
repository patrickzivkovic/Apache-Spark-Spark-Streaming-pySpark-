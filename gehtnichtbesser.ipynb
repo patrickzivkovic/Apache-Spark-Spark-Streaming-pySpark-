{
 "cells": [
  {
   "cell_type": "code",
   "execution_count": 1,
   "metadata": {},
   "outputs": [],
   "source": [
    "import findspark\n",
    "findspark.init('C:\\opt\\spark') \n",
    "# import necessary packages\n",
    "from pyspark import SparkContext\n",
    "from pyspark.streaming import StreamingContext\n",
    "from pyspark.sql import SQLContext\n",
    "from pyspark.sql.functions import desc\n",
    "import time\n",
    "from IPython import display\n",
    "import matplotlib.pyplot as plt\n",
    "import seaborn as sns\n",
    "import pandas\n",
    "from textblob import TextBlob"
   ]
  },
  {
   "cell_type": "code",
   "execution_count": 2,
   "metadata": {
    "scrolled": false
   },
   "outputs": [],
   "source": [
    "sc = SparkContext()\n",
    "# we initiate the StreamingContext with 10 second batch interval. #next we initiate our sqlcontext\n",
    "ssc = StreamingContext(sc, 10)\n",
    "sqlContext = SQLContext(sc)"
   ]
  },
  {
   "cell_type": "code",
   "execution_count": 3,
   "metadata": {},
   "outputs": [],
   "source": [
    "# initiate streaming text from a TCP (socket) source:\n",
    "socket_stream = ssc.socketTextStream(\"127.0.0.1\", 5555)\n",
    "# lines of tweets with socket_stream window of size 60, or 60 #seconds windows of time\n",
    "lines = socket_stream.window(10)"
   ]
  },
  {
   "cell_type": "code",
   "execution_count": null,
   "metadata": {},
   "outputs": [],
   "source": [
    "# def clean_tweet(tweet):\n",
    "#     return ' '.join(re.sub(\"(@[A-Za-z0-9]+)|([^0-9A-Za-z \\t])|(\\w+:\\/\\/\\S+)\", \" \", str(tweet)).split())\n",
    "\n",
    "# #Polarity analysis of a tweet\n",
    "# def analyze_sentiment_polarity(tweet):\n",
    "#     analysis = TextBlob(clean_tweet(tweet))\n",
    "#     # return str(analysis.sentiment.polarity)\n",
    "#     if analysis.sentiment.polarity > 0:\n",
    "#         return 1\n",
    "#     elif analysis.sentiment.polarity == 0:\n",
    "#         return 0\n",
    "#     else:\n",
    "#         return -1\n",
    "\n",
    "# #subjectivity analysis of a tweet\n",
    "# def analyze_sentiment_subjectivity(tweet):\n",
    "#     analysis = TextBlob(clean_tweet(tweet))\n",
    "#     return str(analysis.sentiment.subjectivity)"
   ]
  },
  {
   "cell_type": "code",
   "execution_count": 4,
   "metadata": {},
   "outputs": [],
   "source": [
    "# just a tuple to assign names\n",
    "\n",
    "from collections import namedtuple\n",
    "\n",
    "# sentimentfields = (\"text\", \"polarity\", \"subjectivity\")\n",
    "# Sentimentobject = namedtuple('Sentimentobject', sentimentfields)\n",
    "\n",
    "fields2 = (\"text\", \"count\")\n",
    "Sentiment = namedtuple('Sentiment', fields2)"
   ]
  },
  {
   "cell_type": "code",
   "execution_count": 5,
   "metadata": {},
   "outputs": [],
   "source": [
    "# sentiment = lines.map(lambda text: (text, analyze_sentiment_polarity(text), analyze_sentiment_subjectivity(text)))\n",
    "# sentiment.map(lambda p: Sentimentobject(p[0], p[1], p[2])).foreachRDD(\n",
    "#     lambda rdd: rdd.toDF().registerTempView(\"sentiment\"))"
   ]
  },
  {
   "cell_type": "code",
   "execution_count": 6,
   "metadata": {},
   "outputs": [],
   "source": [
    "# here we apply different operations on the tweets and save them to #a temporary sql table\n",
    "( lines.map( lambda word: ( word, 1) )\n",
    "  .map( lambda rec: Sentiment( rec[0], rec[1] ) )\n",
    " # Sorts Them in a dataframe\n",
    "  .foreachRDD( lambda rdd: rdd.toDF().sort( desc(\"count\") )\n",
    " # Registers only top 10 hashtags to a table.\n",
    "  .limit(10000000).registerTempTable(\"sentiment\") ) )"
   ]
  },
  {
   "cell_type": "code",
   "execution_count": 7,
   "metadata": {},
   "outputs": [],
   "source": [
    "# start streaming and wait couple of minutes to get enought tweets\n",
    "ssc.start()\n"
   ]
  },
  {
   "cell_type": "code",
   "execution_count": 8,
   "metadata": {},
   "outputs": [],
   "source": [
    "time.sleep(20)"
   ]
  },
  {
   "cell_type": "code",
   "execution_count": 9,
   "metadata": {},
   "outputs": [],
   "source": [
    "\n",
    "top_10_senti = sqlContext.sql( 'Select text from sentiment' )\n",
    "top_10_s = top_10_senti.toPandas()\n"
   ]
  },
  {
   "cell_type": "code",
   "execution_count": 10,
   "metadata": {},
   "outputs": [
    {
     "name": "stdout",
     "output_type": "stream",
     "text": [
      "                                                  text\n",
      "0    Protesters in Atlanta shutdown an interstate a...\n",
      "1    This is Lisa Alexander of Pacific Heights, San...\n",
      "2    Virginia: 5 white supremacist terrorists attac...\n",
      "3                                                     \n",
      "4             The victim—Pastor Leon McCray—dialed 911\n",
      "5                                                     \n",
      "6    The police arrived—&amp; arrested him instead ...\n",
      "7                                                     \n",
      "8                                      This is America\n",
      "9                                    #BlackLivesMatter\n",
      "10                             https://t.co/eKq0W7uove\n",
      "11   The \"Karen\" in the video is Lisa Alexander who...\n",
      "12   This is FAR from over. We cannot let this move...\n",
      "13   RETWEET THE EVERY LOVING F*CK OUT OF THIS Staf...\n",
      "14   Show this to anyone who dares claim the cops h...\n",
      "15                                                    \n",
      "16                      Just watch this. Jaw dropping.\n",
      "17                                  #BlackLivesMatter \n",
      "18                             https://t.co/CQ8M59vSO7\n",
      "19   So what proportion of Britain has been switche...\n",
      "20   I can see white liberals lap this stuff up but...\n",
      "21   @realDonaldTrump 🖕🏿🖕🏿🖕🏿 fuck you’re birthday b...\n",
      "22   I'm going to pin this to the top of my profile...\n",
      "23                                #BlackLivesMatterUK \n",
      "24                                            related,\n",
      "25                                                    \n",
      "26   Please share in replies and I'll share as wide...\n",
      "27                                                    \n",
      "28            #JusticeForGeorgeFloyd #NoJusticeNoPeace\n",
      "29                                                    \n",
      "..                                                 ...\n",
      "219  YALL MAKE EVERYTHING ELSE GO VIRAL MAKE THIS G...\n",
      "220  “Say Their Names” by @KadirNelson for @NewYork...\n",
      "221  Remember a week or two ago when everyone was s...\n",
      "222                                                   \n",
      "223  #JusticeForRayshardBrooks #DefundPolice #Aboli...\n",
      "224  There is still no justice for #BreonnaTaylor. ...\n",
      "225                                                   \n",
      "226  #BlackLivesMatter #BlackWomenLivesMatter  #Sto...\n",
      "227  This is what’s been done to the Capitol Hill n...\n",
      "228  im dedicating the tag to these two beautiful w...\n",
      "229                               #LGBTQstandtogether \n",
      "230                                 #BlackLivesMatter \n",
      "231     #BlackTransLivesMatter https://t.co/Zqe7CnTjQy\n",
      "232  Between @DaveChappelle #846 and @ToniMorrison ...\n",
      "233  Anonymous has taken action against Atlanta PD ...\n",
      "234  Protesters in Atlanta shutdown an interstate a...\n",
      "235  Virginia: 5 white supremacist terrorists attac...\n",
      "236                                                   \n",
      "237           The victim—Pastor Leon McCray—dialed 911\n",
      "238                                                   \n",
      "239  The police arrived—&amp; arrested him instead ...\n",
      "240                                                   \n",
      "241                                    This is America\n",
      "242                                  #BlackLivesMatter\n",
      "243                            https://t.co/eKq0W7uove\n",
      "244  @_SJPeace_ It is horrifying that people believ...\n",
      "245  The \"Karen\" in the video is Lisa Alexander who...\n",
      "246  🇬🇧 London, UK: #LondonRiots White British prot...\n",
      "247  #BlackLivesMatter #BLMLondon https://t.co/kOgZ...\n",
      "248  Protesters in Atlanta shutdown an interstate a...\n",
      "\n",
      "[249 rows x 1 columns]\n"
     ]
    }
   ],
   "source": [
    "print(top_10_s)"
   ]
  },
  {
   "cell_type": "code",
   "execution_count": null,
   "metadata": {},
   "outputs": [],
   "source": [
    "top_10_s[\"text\"].head(100)"
   ]
  },
  {
   "cell_type": "code",
   "execution_count": null,
   "metadata": {},
   "outputs": [],
   "source": [
    "type(top_10_senti)"
   ]
  },
  {
   "cell_type": "code",
   "execution_count": null,
   "metadata": {},
   "outputs": [],
   "source": [
    "ssc.stop()"
   ]
  }
 ],
 "metadata": {
  "kernelspec": {
   "display_name": "Python 3",
   "language": "python",
   "name": "python3"
  },
  "language_info": {
   "codemirror_mode": {
    "name": "ipython",
    "version": 3
   },
   "file_extension": ".py",
   "mimetype": "text/x-python",
   "name": "python",
   "nbconvert_exporter": "python",
   "pygments_lexer": "ipython3",
   "version": "3.7.1"
  }
 },
 "nbformat": 4,
 "nbformat_minor": 4
}
