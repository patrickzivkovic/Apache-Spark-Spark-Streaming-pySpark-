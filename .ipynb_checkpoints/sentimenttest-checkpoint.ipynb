{
 "cells": [
  {
   "cell_type": "code",
   "execution_count": 2,
   "metadata": {},
   "outputs": [],
   "source": [
    "import findspark\n",
    "findspark.init('C:\\opt\\spark') \n",
    "# import necessary packages\n",
    "from pyspark import SparkContext\n",
    "from pyspark.streaming import StreamingContext\n",
    "from pyspark.sql import SQLContext\n",
    "from pyspark.sql.functions import desc"
   ]
  },
  {
   "cell_type": "code",
   "execution_count": 3,
   "metadata": {
    "scrolled": false
   },
   "outputs": [],
   "source": [
    "\n",
    "sc = SparkContext()\n",
    "# we initiate the StreamingContext with 10 second batch interval. #next we initiate our sqlcontext\n",
    "ssc = StreamingContext(sc, 10)\n",
    "sqlContext = SQLContext(sc)"
   ]
  },
  {
   "cell_type": "code",
   "execution_count": 4,
   "metadata": {},
   "outputs": [],
   "source": [
    "\n",
    "# initiate streaming text from a TCP (socket) source:\n",
    "socket_stream = ssc.socketTextStream(\"127.0.0.1\", 5555)\n",
    "# lines of tweets with socket_stream window of size 60, or 60 #seconds windows of time\n",
    "lines = socket_stream.window(60)"
   ]
  },
  {
   "cell_type": "code",
   "execution_count": 5,
   "metadata": {},
   "outputs": [],
   "source": [
    "from collections import namedtuple\n",
    "\n",
    "fields = (\"hashtag\", \"count\" )\n",
    "Tweet = namedtuple( 'Tweet', fields )\n",
    "\n",
    "fields2 = (\"text\", \"count\")\n",
    "Sentiment = namedtuple('Sentiment', fields2)\n"
   ]
  },
  {
   "cell_type": "code",
   "execution_count": 8,
   "metadata": {},
   "outputs": [],
   "source": [
    "# here we apply different operations on the tweets and save them to #a temporary sql table\n",
    "( lines.flatMap( lambda text: text.split( \"b'\" ) ) #Splits to a list\n",
    "  .map( lambda word: ( word.lower(), 1 ) ) # Lower cases the word\n",
    "  .reduceByKey( lambda a, b: a + b ) \n",
    " # Stores in a Tweet Object\n",
    "  .map( lambda rec: Sentiment( rec[0], rec[1] ) )\n",
    " # Sorts Them in a dataframe\n",
    "  .foreachRDD( lambda rdd: rdd.toDF().sort( desc(\"count\") )\n",
    " # Registers only top 10 hashtags to a table.\n",
    "  .limit(10).registerTempTable(\"Sentiment\") ) )"
   ]
  },
  {
   "cell_type": "code",
   "execution_count": 10,
   "metadata": {},
   "outputs": [],
   "source": [
    "# here we apply different operations on the tweets and save them to #a temporary sql table\n",
    "( lines.flatMap( lambda text: text.split( \" \" ) ) #Splits to a list\n",
    "  # Checks for    hashtag calls  \n",
    "  .filter( lambda word: word.lower().startswith(\"#\") ) \n",
    "  .map( lambda word: ( word.lower(), 1 ) ) # Lower cases the word\n",
    "  .reduceByKey( lambda a, b: a + b ) \n",
    " # Stores in a Tweet Object\n",
    "  .map( lambda rec: Tweet( rec[0], rec[1] ) )\n",
    " # Sorts Them in a dataframe\n",
    "  .foreachRDD( lambda rdd: rdd.toDF().sort( desc(\"count\") )\n",
    " # Registers only top 10 hashtags to a table.\n",
    "  .limit(10).registerTempTable(\"tweets\") ) )"
   ]
  },
  {
   "cell_type": "code",
   "execution_count": 11,
   "metadata": {},
   "outputs": [],
   "source": [
    "\n",
    "  # start streaming and wait couple of minutes to get enought tweets\n",
    "ssc.start()\n"
   ]
  },
  {
   "cell_type": "code",
   "execution_count": 12,
   "metadata": {},
   "outputs": [],
   "source": [
    "\n",
    "# import libraries to visualize the results\n",
    "import time\n",
    "from IPython import display\n",
    "import matplotlib.pyplot as plt\n",
    "import seaborn as sns\n",
    "import pandas\n",
    "from textblob import TextBlob\n"
   ]
  },
  {
   "cell_type": "code",
   "execution_count": 31,
   "metadata": {},
   "outputs": [
    {
     "name": "stdout",
     "output_type": "stream",
     "text": [
      "                                                text\n",
      "0                                          #devasena\n",
      "1                                         #avanthika\n",
      "2  #dunyaupdates #dunyanewsrt @espnfc: porto have...\n",
      "3                                   #healthoverexams\n",
      "4  #hec_jawaab…@waterisnotwet__ this tweet also k...\n",
      "5                                       #medtwitter \n",
      "6                                      #bhalaladheva\n",
      "7                            #prabhas @ranadaggubati\n",
      "8                                         #baahubali\n",
      "9  #corona@apostlesuleman you are very right sir ...\n",
      "1\n",
      "Sentiment(polarity=0.0, subjectivity=0.0)\n",
      "Sentiment(polarity=0.0, subjectivity=0.0)\n",
      "Sentiment(polarity=0.0, subjectivity=0.0)\n",
      "                                                text\n",
      "0                                          #devasena\n",
      "1                                         #avanthika\n",
      "2                                      #bhalaladheva\n",
      "3                            #prabhas @ranadaggubati\n",
      "4  #hec_jawaab…@waterisnotwet__ this tweet also k...\n",
      "5                                       #medtwitter \n",
      "6                                   #healthoverexams\n",
      "7                                       #coimbatore \n",
      "8  #dunyaupdates #dunyanewsrt @espnfc: porto have...\n",
      "9                                         #baahubali\n",
      "2\n",
      "Sentiment(polarity=0.0, subjectivity=0.0)\n",
      "Sentiment(polarity=0.0, subjectivity=0.0)\n",
      "Sentiment(polarity=0.0, subjectivity=0.0)\n",
      "                                                text\n",
      "0                                  #healthoverexams \n",
      "1                                 #postponeneet2020 \n",
      "2                                   #healthoverexams\n",
      "3                                       #coimbatore \n",
      "4  #hec_jawaab…@waterisnotwet__ this tweet also k...\n",
      "5                                       #medtwitter \n",
      "6  #corona@apostlesuleman you are very right sir ...\n",
      "7                                      #postponeneet\n",
      "8  #tngovt changed names of few cities during thi...\n",
      "9  #russia #coronavirus #covid19 #covid__19its ho...\n",
      "3\n",
      "Sentiment(polarity=0.0, subjectivity=0.0)\n",
      "Sentiment(polarity=0.0, subjectivity=0.0)\n",
      "Sentiment(polarity=0.0, subjectivity=0.0)\n",
      "                                                text\n",
      "0                                  #healthoverexams \n",
      "1  #hec_jawaab…@waterisnotwet__ this tweet also k...\n",
      "2                                       #medtwitter \n",
      "3                                 #postponeneet2020 \n",
      "4  #corona@apostlesuleman you are very right sir ...\n",
      "5                                   #healthoverexams\n",
      "6                                       #coimbatore \n",
      "7                                      #postponeneet\n",
      "8  #tngovt changed names of few cities during thi...\n",
      "9  #russia #coronavirus #covid19 #covid__19its ho...\n",
      "4\n",
      "Sentiment(polarity=0.11875, subjectivity=0.35000000000000003)\n",
      "Sentiment(polarity=0.0, subjectivity=0.0)\n",
      "Sentiment(polarity=0.0, subjectivity=0.0)\n",
      "                                                text\n",
      "0  #hec_jawaab…@waterisnotwet__ this tweet also k...\n",
      "1                                       #medtwitter \n",
      "2                                   #healthoverexams\n",
      "3  #ehsaasforallwithpmik https:/…rt @_indianmusli...\n",
      "4                                 #postponeneet2020 \n",
      "5  #corona@apostlesuleman you are very right sir ...\n",
      "6                                  #healthoverexams \n",
      "7                                       #coimbatore \n",
      "8  #american courts prohibited the sa… https://t....\n",
      "9                                      #postponeneet\n",
      "5\n",
      "Sentiment(polarity=0.0, subjectivity=0.0)\n",
      "Sentiment(polarity=0.0, subjectivity=0.0)\n",
      "Sentiment(polarity=0.04545454545454545, subjectivity=0.18484848484848485)\n"
     ]
    }
   ],
   "source": [
    "#matplotlib inline\n",
    "count = 0\n",
    "while count < 5:\n",
    "    \n",
    "    time.sleep(5)\n",
    "    # top hashtags:\n",
    "    top_10_tags = sqlContext.sql( 'Select hashtag, count from tweets' )\n",
    "    top_10_df = top_10_tags.toPandas()\n",
    "    display.clear_output(wait=True)\n",
    "    plt.figure( figsize = ( 10, 8 ) )\n",
    "    sns.barplot( x=\"count\", y=\"hashtag\", data=top_10_df)\n",
    "    plt.show()\n",
    "    #sentiment analysis:\n",
    "    top_10_senti = sqlContext.sql( 'Select text from sentiment' )\n",
    "    top_10_s = top_10_senti.toPandas()\n",
    "    print(top_10_s)\n",
    "    count = count + 1\n",
    "    print(count)\n",
    "    # Schleife über alle texte, die in top_10_s gespeichert sind, und davon jeweils die sentiment analysis\n",
    "    n = 3\n",
    "    s = 0\n",
    "    i = 1\n",
    "    while i <= n:\n",
    "        s = s + i\n",
    "        opinion = TextBlob(top_10_s[\"text\"][i])\n",
    "        print(opinion.sentiment)\n",
    "        i = i + 1\n"
   ]
  }
 ],
 "metadata": {
  "kernelspec": {
   "display_name": "Python 3",
   "language": "python",
   "name": "python3"
  },
  "language_info": {
   "codemirror_mode": {
    "name": "ipython",
    "version": 3
   },
   "file_extension": ".py",
   "mimetype": "text/x-python",
   "name": "python",
   "nbconvert_exporter": "python",
   "pygments_lexer": "ipython3",
   "version": "3.7.1"
  }
 },
 "nbformat": 4,
 "nbformat_minor": 4
}
